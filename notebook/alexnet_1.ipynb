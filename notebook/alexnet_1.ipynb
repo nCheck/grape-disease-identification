{
  "nbformat": 4,
  "nbformat_minor": 0,
  "metadata": {
    "colab": {
      "name": "alexnet-1.ipynb",
      "version": "0.3.2",
      "provenance": [],
      "collapsed_sections": []
    },
    "kernelspec": {
      "name": "python3",
      "display_name": "Python 3"
    },
    "accelerator": "TPU"
  },
  "cells": [
    {
      "metadata": {
        "id": "_lqKRkYZik1y",
        "colab_type": "code",
        "colab": {}
      },
      "cell_type": "code",
      "source": [
        "import numpy as np\n",
        "import pickle\n",
        "import cv2\n",
        "from os import listdir\n",
        "from sklearn.preprocessing import LabelBinarizer\n",
        "import tensorflow as tf\n",
        "from tensorflow.python import keras"
      ],
      "execution_count": 0,
      "outputs": []
    },
    {
      "metadata": {
        "id": "ozDupX43ik2C",
        "colab_type": "code",
        "colab": {}
      },
      "cell_type": "code",
      "source": [
        "gpu_options = tf.GPUOptions(allow_growth=True)\n",
        "session = tf.InteractiveSession(config=tf.ConfigProto(gpu_options=gpu_options))"
      ],
      "execution_count": 0,
      "outputs": []
    },
    {
      "metadata": {
        "id": "4yWb44jYik2L",
        "colab_type": "code",
        "colab": {}
      },
      "cell_type": "code",
      "source": [
        "from tensorflow.python.keras.models import Sequential\n",
        "from tensorflow.python.keras.layers.normalization import BatchNormalization\n",
        "from tensorflow.python.keras.layers.convolutional import Conv2D\n",
        "from tensorflow.python.keras.layers.convolutional import MaxPooling2D\n",
        "from tensorflow.python.keras.layers.core import Activation, Flatten, Dropout, Dense\n",
        "from tensorflow.python.keras import backend as K\n",
        "from tensorflow.python.keras.preprocessing.image import ImageDataGenerator\n",
        "from tensorflow.python.keras.optimizers import Adam\n",
        "from tensorflow.python.keras.preprocessing import image\n",
        "from tensorflow.python.keras.preprocessing.image import img_to_array\n",
        "from sklearn.preprocessing import MultiLabelBinarizer\n",
        "from sklearn.model_selection import train_test_split\n",
        "import matplotlib.pyplot as plt"
      ],
      "execution_count": 0,
      "outputs": []
    },
    {
      "metadata": {
        "id": "54w20ynNik2U",
        "colab_type": "code",
        "colab": {}
      },
      "cell_type": "code",
      "source": [
        "EPOCHS = 25\n",
        "INIT_LR = 1e-3\n",
        "BS = 32\n",
        "default_image_size = tuple((224, 224))\n",
        "image_size = 0\n",
        "directory_root = './dataset'\n",
        "width=224\n",
        "height=224\n",
        "depth=3"
      ],
      "execution_count": 0,
      "outputs": []
    },
    {
      "metadata": {
        "id": "HbIcRffUjdX2",
        "colab_type": "code",
        "outputId": "ca86780b-bf04-48ab-d93b-4b9a9940691c",
        "colab": {
          "base_uri": "https://localhost:8080/",
          "height": 124
        }
      },
      "cell_type": "code",
      "source": [
        "# Load the Drive helper and mount\n",
        "from google.colab import drive\n",
        "\n",
        "# This will prompt for authorization.\n",
        "drive.mount('/content/drive')\n",
        "#4/EAHvxOwTUUc5P4f054p_XPb6LUtIp67TjDF6lZaN8qOKZAuMbtL9Fow"
      ],
      "execution_count": 0,
      "outputs": [
        {
          "output_type": "stream",
          "text": [
            "Go to this URL in a browser: https://accounts.google.com/o/oauth2/auth?client_id=947318989803-6bn6qk8qdgf4n4g3pfee6491hc0brc4i.apps.googleusercontent.com&redirect_uri=urn%3Aietf%3Awg%3Aoauth%3A2.0%3Aoob&scope=email%20https%3A%2F%2Fwww.googleapis.com%2Fauth%2Fdocs.test%20https%3A%2F%2Fwww.googleapis.com%2Fauth%2Fdrive%20https%3A%2F%2Fwww.googleapis.com%2Fauth%2Fdrive.photos.readonly%20https%3A%2F%2Fwww.googleapis.com%2Fauth%2Fpeopleapi.readonly&response_type=code\n",
            "\n",
            "Enter your authorization code:\n",
            "··········\n",
            "Mounted at /content/drive\n"
          ],
          "name": "stdout"
        }
      ]
    },
    {
      "metadata": {
        "id": "FgJ1LJ4NnRt_",
        "colab_type": "code",
        "outputId": "2233246a-d01e-4ed3-bf0e-7c448a78d29a",
        "colab": {
          "base_uri": "https://localhost:8080/",
          "height": 34
        }
      },
      "cell_type": "code",
      "source": [
        "!ls \"/content/drive/My Drive/MP - Benette\""
      ],
      "execution_count": 0,
      "outputs": [
        {
          "output_type": "stream",
          "text": [
            "alexnet64.h5  dataset.zip  models  notebook\n"
          ],
          "name": "stdout"
        }
      ]
    },
    {
      "metadata": {
        "id": "4uNZbzvp2hrL",
        "colab_type": "code",
        "colab": {}
      },
      "cell_type": "code",
      "source": [
        "!ls "
      ],
      "execution_count": 0,
      "outputs": []
    },
    {
      "metadata": {
        "id": "6P_hwaB8Dgu7",
        "colab_type": "code",
        "colab": {}
      },
      "cell_type": "code",
      "source": [
        "!unzip \"/content/drive/My Drive/MP - Benette/dataset.zip\""
      ],
      "execution_count": 0,
      "outputs": []
    },
    {
      "metadata": {
        "id": "K_w06u2Mik2a",
        "colab_type": "code",
        "colab": {}
      },
      "cell_type": "code",
      "source": [
        "\n",
        "\n",
        "def convert_image_to_array(image_dir):\n",
        "    try:\n",
        "        image = cv2.imread(image_dir)\n",
        "        if image is not None :\n",
        "            image = cv2.resize(image, default_image_size)   \n",
        "            return img_to_array(image)\n",
        "        else :\n",
        "            return np.array([])\n",
        "    except Exception as e:\n",
        "        print(f\"Error : {e}\")\n",
        "        return None\n",
        "\n"
      ],
      "execution_count": 0,
      "outputs": []
    },
    {
      "metadata": {
        "id": "V1sT-WNfik2f",
        "colab_type": "code",
        "outputId": "c6f891f8-a3ab-4fd3-e013-b55c41a1bf50",
        "colab": {
          "base_uri": "https://localhost:8080/",
          "height": 121
        }
      },
      "cell_type": "code",
      "source": [
        "image_list, label_list = [], []\n",
        "try:\n",
        "    print(\"[INFO] Loading images ...\")\n",
        "    root_dir = listdir(directory_root)\n",
        "    for directory in root_dir :\n",
        "        # remove .DS_Store from list\n",
        "        if directory == \".DS_Store\" :\n",
        "            root_dir.remove(directory)\n",
        "\n",
        "    for plant_folder in root_dir :\n",
        "        plant_disease_folder_list = listdir(f\"{directory_root}/{plant_folder}\")\n",
        "        \n",
        "        for disease_folder in plant_disease_folder_list :\n",
        "            # remove .DS_Store from list\n",
        "            if disease_folder == \".DS_Store\" :\n",
        "                plant_disease_folder_list.remove(disease_folder)\n",
        "\n",
        "        for plant_disease_folder in plant_disease_folder_list:\n",
        "            print(f\"[INFO] Processing {plant_disease_folder} ...\")\n",
        "            plant_disease_image_list = listdir(f\"{directory_root}/{plant_folder}/{plant_disease_folder}/\")\n",
        "                \n",
        "            for single_plant_disease_image in plant_disease_image_list :\n",
        "                if single_plant_disease_image == \".DS_Store\" :\n",
        "                    plant_disease_image_list.remove(single_plant_disease_image)\n",
        "\n",
        "            for image in plant_disease_image_list[:200]:\n",
        "                image_directory = f\"{directory_root}/{plant_folder}/{plant_disease_folder}/{image}\"\n",
        "                if image_directory.endswith(\".jpg\") == True or image_directory.endswith(\".JPG\") == True:\n",
        "                    image_list.append(convert_image_to_array(image_directory))\n",
        "                    label_list.append(plant_disease_folder)\n",
        "    print(\"[INFO] Image loading completed\")  \n",
        "except Exception as e:\n",
        "    print(f\"Error : {e}\")\n"
      ],
      "execution_count": 0,
      "outputs": [
        {
          "output_type": "stream",
          "text": [
            "[INFO] Loading images ...\n",
            "[INFO] Processing Grape___Leaf_blight_(Isariopsis_Leaf_Spot) ...\n",
            "[INFO] Processing Grape___Esca_(Black_Measles) ...\n",
            "[INFO] Processing Grape___healthy ...\n",
            "[INFO] Processing Grape___Black_rot ...\n",
            "[INFO] Image loading completed\n"
          ],
          "name": "stdout"
        }
      ]
    },
    {
      "metadata": {
        "id": "w0iUFzSwik2p",
        "colab_type": "code",
        "colab": {}
      },
      "cell_type": "code",
      "source": [
        "image_size = len(image_list)"
      ],
      "execution_count": 0,
      "outputs": []
    },
    {
      "metadata": {
        "id": "lVNnKg5Hik2x",
        "colab_type": "code",
        "colab": {}
      },
      "cell_type": "code",
      "source": [
        "label_binarizer = LabelBinarizer()\n",
        "image_labels = label_binarizer.fit_transform(label_list)\n",
        "# pickle.dump(label_binarizer,open('label_transform.pkl', 'wb'))\n",
        "n_classes = len(label_binarizer.classes_)"
      ],
      "execution_count": 0,
      "outputs": []
    },
    {
      "metadata": {
        "id": "hkal59KQik25",
        "colab_type": "code",
        "colab": {}
      },
      "cell_type": "code",
      "source": [
        "np_image_list = np.array(image_list, dtype=np.float16) / 225.0"
      ],
      "execution_count": 0,
      "outputs": []
    },
    {
      "metadata": {
        "id": "Rd4K5Vm-ik3J",
        "colab_type": "code",
        "outputId": "a0dff0a3-8115-4746-f8e8-f0c030d0e5de",
        "colab": {
          "base_uri": "https://localhost:8080/",
          "height": 34
        }
      },
      "cell_type": "code",
      "source": [
        "print(\"[INFO] Spliting data to train, test\")\n",
        "x_train, x_test, y_train, y_test = train_test_split(np_image_list, image_labels, test_size=0.2, random_state = 2) "
      ],
      "execution_count": 0,
      "outputs": [
        {
          "output_type": "stream",
          "text": [
            "[INFO] Spliting data to train, test\n"
          ],
          "name": "stdout"
        }
      ]
    },
    {
      "metadata": {
        "id": "I1dWVRV7ik3V",
        "colab_type": "code",
        "colab": {}
      },
      "cell_type": "code",
      "source": [
        "aug = ImageDataGenerator(\n",
        "    rotation_range=25, width_shift_range=0.1,\n",
        "    height_shift_range=0.1, shear_range=0.2, \n",
        "    zoom_range=0.2,horizontal_flip=True, \n",
        "    fill_mode=\"nearest\")"
      ],
      "execution_count": 0,
      "outputs": []
    },
    {
      "metadata": {
        "id": "R9YZ5dCmik3b",
        "colab_type": "code",
        "colab": {}
      },
      "cell_type": "code",
      "source": [
        "#Alex Net\n",
        "\n",
        "#Instantiate an empty model\n",
        "model = Sequential()\n",
        "\n",
        "# 1st Convolutional Layer\n",
        "model.add(Conv2D(filters=96, input_shape=(224,224,3), kernel_size=(11,11), strides=(4,4), padding=\"valid\"))\n",
        "model.add(Activation(\"relu\"))\n",
        "model.add(BatchNormalization(axis=chanDim))\n",
        "# Max Pooling\n",
        "model.add(MaxPooling2D(pool_size=(2,2), strides=(2,2), padding=\"valid\"))\n",
        "\n",
        "# 2nd Convolutional Layer\n",
        "model.add(Conv2D(filters=256, kernel_size=(11,11), strides=(1,1), padding=\"valid\"))\n",
        "model.add(Activation(\"relu\"))\n",
        "model.add(BatchNormalization(axis=chanDim))\n",
        "# Max Pooling\n",
        "model.add(MaxPooling2D(pool_size=(2,2), strides=(2,2), padding=\"valid\"))\n",
        "\n",
        "# 3rd Convolutional Layer\n",
        "model.add(Conv2D(filters=384, kernel_size=(3,3), strides=(1,1), padding=\"valid\"))\n",
        "model.add(Activation(\"relu\"))\n",
        "model.add(BatchNormalization(axis=chanDim))\n",
        "\n",
        "# 4th Convolutional Layer\n",
        "model.add(Conv2D(filters=384, kernel_size=(3,3), strides=(1,1), padding=\"valid\"))\n",
        "model.add(Activation(\"relu\"))\n",
        "model.add(BatchNormalization(axis=chanDim))\n",
        "\n",
        "# 5th Convolutional Layer\n",
        "model.add(Conv2D(filters=256, kernel_size=(3,3), strides=(1,1), padding=\"valid\"))\n",
        "model.add(Activation(\"relu\"))\n",
        "model.add(BatchNormalization(axis=chanDim))\n",
        "# Max Pooling\n",
        "model.add(MaxPooling2D(pool_size=(2,2), strides=(2,2), padding=\"valid\"))\n",
        "\n",
        "# Passing it to a Fully Connected layer\n",
        "model.add(Flatten())\n",
        "# 1st Fully Connected Layer\n",
        "model.add(Dense(4096, input_shape=(224*224*3,)))\n",
        "model.add(Activation(\"relu\"))\n",
        "# Add Dropout to prevent overfitting\n",
        "model.add(Dropout(0.4))\n",
        "\n",
        "# 2nd Fully Connected Layer\n",
        "model.add(Dense(4096))\n",
        "model.add(Activation(\"relu\"))\n",
        "# Add Dropout\n",
        "model.add(Dropout(0.4))\n",
        "\n",
        "# 3rd Fully Connected Layer\n",
        "model.add(Dense(1000))\n",
        "model.add(Activation(\"relu\"))\n",
        "# Add Dropout\n",
        "model.add(Dropout(0.4))\n",
        "\n",
        "# Output Layer\n",
        "model.add(Dense(n_classes))\n",
        "model.add(Activation(\"softmax\"))\n"
      ],
      "execution_count": 0,
      "outputs": []
    },
    {
      "metadata": {
        "id": "5yz-_rvWik3g",
        "colab_type": "code",
        "outputId": "cf97c952-023e-4170-a969-c42d8e9e9918",
        "colab": {
          "base_uri": "https://localhost:8080/",
          "height": 1181
        }
      },
      "cell_type": "code",
      "source": [
        "model.summary()\n",
        "\n"
      ],
      "execution_count": 0,
      "outputs": [
        {
          "output_type": "stream",
          "text": [
            "_________________________________________________________________\n",
            "Layer (type)                 Output Shape              Param #   \n",
            "=================================================================\n",
            "conv2d_35 (Conv2D)           (None, 54, 54, 96)        34944     \n",
            "_________________________________________________________________\n",
            "activation_59 (Activation)   (None, 54, 54, 96)        0         \n",
            "_________________________________________________________________\n",
            "batch_normalization_v1_5 (Ba (None, 54, 54, 96)        384       \n",
            "_________________________________________________________________\n",
            "max_pooling2d_21 (MaxPooling (None, 27, 27, 96)        0         \n",
            "_________________________________________________________________\n",
            "conv2d_36 (Conv2D)           (None, 17, 17, 256)       2973952   \n",
            "_________________________________________________________________\n",
            "activation_60 (Activation)   (None, 17, 17, 256)       0         \n",
            "_________________________________________________________________\n",
            "batch_normalization_v1_6 (Ba (None, 17, 17, 256)       1024      \n",
            "_________________________________________________________________\n",
            "max_pooling2d_22 (MaxPooling (None, 8, 8, 256)         0         \n",
            "_________________________________________________________________\n",
            "conv2d_37 (Conv2D)           (None, 6, 6, 384)         885120    \n",
            "_________________________________________________________________\n",
            "activation_61 (Activation)   (None, 6, 6, 384)         0         \n",
            "_________________________________________________________________\n",
            "batch_normalization_v1_7 (Ba (None, 6, 6, 384)         1536      \n",
            "_________________________________________________________________\n",
            "conv2d_38 (Conv2D)           (None, 4, 4, 384)         1327488   \n",
            "_________________________________________________________________\n",
            "activation_62 (Activation)   (None, 4, 4, 384)         0         \n",
            "_________________________________________________________________\n",
            "batch_normalization_v1_8 (Ba (None, 4, 4, 384)         1536      \n",
            "_________________________________________________________________\n",
            "conv2d_39 (Conv2D)           (None, 2, 2, 256)         884992    \n",
            "_________________________________________________________________\n",
            "activation_63 (Activation)   (None, 2, 2, 256)         0         \n",
            "_________________________________________________________________\n",
            "batch_normalization_v1_9 (Ba (None, 2, 2, 256)         1024      \n",
            "_________________________________________________________________\n",
            "max_pooling2d_23 (MaxPooling (None, 1, 1, 256)         0         \n",
            "_________________________________________________________________\n",
            "flatten_7 (Flatten)          (None, 256)               0         \n",
            "_________________________________________________________________\n",
            "dense_25 (Dense)             (None, 4096)              1052672   \n",
            "_________________________________________________________________\n",
            "activation_64 (Activation)   (None, 4096)              0         \n",
            "_________________________________________________________________\n",
            "dropout_24 (Dropout)         (None, 4096)              0         \n",
            "_________________________________________________________________\n",
            "dense_26 (Dense)             (None, 4096)              16781312  \n",
            "_________________________________________________________________\n",
            "activation_65 (Activation)   (None, 4096)              0         \n",
            "_________________________________________________________________\n",
            "dropout_25 (Dropout)         (None, 4096)              0         \n",
            "_________________________________________________________________\n",
            "dense_27 (Dense)             (None, 1000)              4097000   \n",
            "_________________________________________________________________\n",
            "activation_66 (Activation)   (None, 1000)              0         \n",
            "_________________________________________________________________\n",
            "dropout_26 (Dropout)         (None, 1000)              0         \n",
            "_________________________________________________________________\n",
            "dense_28 (Dense)             (None, 4)                 4004      \n",
            "_________________________________________________________________\n",
            "activation_67 (Activation)   (None, 4)                 0         \n",
            "=================================================================\n",
            "Total params: 28,046,988\n",
            "Trainable params: 28,044,236\n",
            "Non-trainable params: 2,752\n",
            "_________________________________________________________________\n"
          ],
          "name": "stdout"
        }
      ]
    },
    {
      "metadata": {
        "id": "H0vPo57gik3m",
        "colab_type": "code",
        "outputId": "2d7ed306-c1be-4ba9-9639-f00ac257a0b8",
        "colab": {
          "base_uri": "https://localhost:8080/",
          "height": 34
        }
      },
      "cell_type": "code",
      "source": [
        "\n",
        "\n",
        "opt = Adam(lr=INIT_LR, decay=INIT_LR / EPOCHS)\n",
        "# distribution\n",
        "model.compile(loss=\"binary_crossentropy\", optimizer=opt,metrics=[\"accuracy\"])\n",
        "# train the network\n",
        "print(\"[INFO] training network...\")\n",
        "\n"
      ],
      "execution_count": 0,
      "outputs": [
        {
          "output_type": "stream",
          "text": [
            "[INFO] training network...\n"
          ],
          "name": "stdout"
        }
      ]
    },
    {
      "metadata": {
        "id": "W7Df08sgik3u",
        "colab_type": "code",
        "colab": {}
      },
      "cell_type": "code",
      "source": [
        ""
      ],
      "execution_count": 0,
      "outputs": []
    },
    {
      "metadata": {
        "id": "yv1PSXKVik3y",
        "colab_type": "code",
        "outputId": "a65992a5-a1dc-42af-fd27-e0b492ea9e53",
        "colab": {
          "base_uri": "https://localhost:8080/",
          "height": 1320
        }
      },
      "cell_type": "code",
      "source": [
        "\n",
        "\n",
        "history = model.fit_generator(\n",
        "    aug.flow(x_train, y_train, batch_size=BS),\n",
        "    validation_data=(x_test, y_test),\n",
        "    steps_per_epoch=len(x_train) // BS,\n",
        "    epochs=EPOCHS, verbose=1\n",
        "    )\n",
        "\n"
      ],
      "execution_count": 0,
      "outputs": [
        {
          "output_type": "stream",
          "text": [
            "Epoch 1/25\n",
            "160/160 [==============================] - 7s 47ms/sample - loss: 3.2406 - acc: 0.6313\n",
            "20/20 [==============================] - 121s 6s/step - loss: 0.8537 - acc: 0.7727 - val_loss: 3.2406 - val_acc: 0.6313\n",
            "Epoch 2/25\n",
            "160/160 [==============================] - 7s 44ms/sample - loss: 2.1740 - acc: 0.6344\n",
            "20/20 [==============================] - 119s 6s/step - loss: 0.3811 - acc: 0.8293 - val_loss: 2.1740 - val_acc: 0.6344\n",
            "Epoch 3/25\n",
            "160/160 [==============================] - 7s 43ms/sample - loss: 2.6825 - acc: 0.6641\n",
            "20/20 [==============================] - 117s 6s/step - loss: 0.3195 - acc: 0.8699 - val_loss: 2.6825 - val_acc: 0.6641\n",
            "Epoch 4/25\n",
            "160/160 [==============================] - 7s 44ms/sample - loss: 1.7040 - acc: 0.6250\n",
            "20/20 [==============================] - 117s 6s/step - loss: 0.3359 - acc: 0.8484 - val_loss: 1.7040 - val_acc: 0.6250\n",
            "Epoch 5/25\n",
            "160/160 [==============================] - 7s 43ms/sample - loss: 0.7842 - acc: 0.7172\n",
            "20/20 [==============================] - 117s 6s/step - loss: 0.3090 - acc: 0.8582 - val_loss: 0.7842 - val_acc: 0.7172\n",
            "Epoch 6/25\n",
            "160/160 [==============================] - 7s 44ms/sample - loss: 2.1745 - acc: 0.6797\n",
            "20/20 [==============================] - 117s 6s/step - loss: 0.2912 - acc: 0.8637 - val_loss: 2.1745 - val_acc: 0.6797\n",
            "Epoch 7/25\n",
            "160/160 [==============================] - 7s 43ms/sample - loss: 1.1711 - acc: 0.7266\n",
            "20/20 [==============================] - 117s 6s/step - loss: 0.2832 - acc: 0.8824 - val_loss: 1.1711 - val_acc: 0.7266\n",
            "Epoch 8/25\n",
            "160/160 [==============================] - 7s 43ms/sample - loss: 3.6127 - acc: 0.6781\n",
            "20/20 [==============================] - 117s 6s/step - loss: 0.2807 - acc: 0.8797 - val_loss: 3.6127 - val_acc: 0.6781\n",
            "Epoch 9/25\n",
            "160/160 [==============================] - 7s 45ms/sample - loss: 4.2973 - acc: 0.6625\n",
            "20/20 [==============================] - 118s 6s/step - loss: 0.2834 - acc: 0.8832 - val_loss: 4.2973 - val_acc: 0.6625\n",
            "Epoch 10/25\n",
            "160/160 [==============================] - 7s 44ms/sample - loss: 2.7615 - acc: 0.7031\n",
            "20/20 [==============================] - 117s 6s/step - loss: 0.2866 - acc: 0.8734 - val_loss: 2.7615 - val_acc: 0.7031\n",
            "Epoch 11/25\n",
            "160/160 [==============================] - 7s 44ms/sample - loss: 0.6536 - acc: 0.8109\n",
            "20/20 [==============================] - 117s 6s/step - loss: 0.2949 - acc: 0.8734 - val_loss: 0.6536 - val_acc: 0.8109\n",
            "Epoch 12/25\n",
            "160/160 [==============================] - 7s 44ms/sample - loss: 0.6594 - acc: 0.8094\n",
            "20/20 [==============================] - 118s 6s/step - loss: 0.2683 - acc: 0.8762 - val_loss: 0.6594 - val_acc: 0.8094\n",
            "Epoch 13/25\n",
            "160/160 [==============================] - 7s 44ms/sample - loss: 2.3074 - acc: 0.6953\n",
            "20/20 [==============================] - 117s 6s/step - loss: 0.2519 - acc: 0.8914 - val_loss: 2.3074 - val_acc: 0.6953\n",
            "Epoch 14/25\n",
            "160/160 [==============================] - 7s 45ms/sample - loss: 5.3417 - acc: 0.6438\n",
            "20/20 [==============================] - 117s 6s/step - loss: 0.2138 - acc: 0.9074 - val_loss: 5.3417 - val_acc: 0.6438\n",
            "Epoch 15/25\n",
            "160/160 [==============================] - 7s 44ms/sample - loss: 0.3076 - acc: 0.8844\n",
            "20/20 [==============================] - 118s 6s/step - loss: 0.3026 - acc: 0.8797 - val_loss: 0.3076 - val_acc: 0.8844\n",
            "Epoch 16/25\n",
            "160/160 [==============================] - 7s 43ms/sample - loss: 3.6271 - acc: 0.6609\n",
            "20/20 [==============================] - 117s 6s/step - loss: 0.2598 - acc: 0.8863 - val_loss: 3.6271 - val_acc: 0.6609\n",
            "Epoch 17/25\n",
            "160/160 [==============================] - 7s 43ms/sample - loss: 3.2921 - acc: 0.6594\n",
            "20/20 [==============================] - 117s 6s/step - loss: 0.2397 - acc: 0.9016 - val_loss: 3.2921 - val_acc: 0.6594\n",
            "Epoch 18/25\n",
            "160/160 [==============================] - 7s 45ms/sample - loss: 0.5679 - acc: 0.8094\n",
            "20/20 [==============================] - 118s 6s/step - loss: 0.2980 - acc: 0.8781 - val_loss: 0.5679 - val_acc: 0.8094\n",
            "Epoch 19/25\n",
            "160/160 [==============================] - 7s 44ms/sample - loss: 0.4930 - acc: 0.8516\n",
            "20/20 [==============================] - 117s 6s/step - loss: 0.2994 - acc: 0.8711 - val_loss: 0.4930 - val_acc: 0.8516\n",
            "Epoch 20/25\n",
            "160/160 [==============================] - 7s 46ms/sample - loss: 0.6483 - acc: 0.7984\n",
            "20/20 [==============================] - 118s 6s/step - loss: 0.3216 - acc: 0.8793 - val_loss: 0.6483 - val_acc: 0.7984\n",
            "Epoch 21/25\n",
            "160/160 [==============================] - 7s 43ms/sample - loss: 1.4672 - acc: 0.7359\n",
            "20/20 [==============================] - 117s 6s/step - loss: 0.2236 - acc: 0.8996 - val_loss: 1.4672 - val_acc: 0.7359\n",
            "Epoch 22/25\n",
            "160/160 [==============================] - 7s 44ms/sample - loss: 1.4151 - acc: 0.7344\n",
            "20/20 [==============================] - 117s 6s/step - loss: 0.2256 - acc: 0.9055 - val_loss: 1.4151 - val_acc: 0.7344\n",
            "Epoch 23/25\n",
            "160/160 [==============================] - 7s 44ms/sample - loss: 0.8547 - acc: 0.7906\n",
            "20/20 [==============================] - 117s 6s/step - loss: 0.2229 - acc: 0.9105 - val_loss: 0.8547 - val_acc: 0.7906\n",
            "Epoch 24/25\n",
            "160/160 [==============================] - 7s 44ms/sample - loss: 1.3756 - acc: 0.7609\n",
            "20/20 [==============================] - 117s 6s/step - loss: 0.2075 - acc: 0.9086 - val_loss: 1.3756 - val_acc: 0.7609\n",
            "Epoch 25/25\n",
            "160/160 [==============================] - 7s 43ms/sample - loss: 5.2341 - acc: 0.6438\n",
            "20/20 [==============================] - 117s 6s/step - loss: 0.2508 - acc: 0.8906 - val_loss: 5.2341 - val_acc: 0.6438\n"
          ],
          "name": "stdout"
        }
      ]
    },
    {
      "metadata": {
        "id": "gvMa413rGvkD",
        "colab_type": "code",
        "outputId": "54e3a1e6-3eee-480b-fb16-c2f989e4b9b4",
        "colab": {
          "base_uri": "https://localhost:8080/",
          "height": 707
        }
      },
      "cell_type": "code",
      "source": [
        "acc = history.history['acc']\n",
        "val_acc = history.history['val_acc']\n",
        "loss = history.history['loss']\n",
        "val_loss = history.history['val_loss']\n",
        "epochs = range(1, len(acc) + 1)\n",
        "#Train and validation accuracy\n",
        "plt.plot(epochs, acc, 'b', label='Training accurarcy')\n",
        "plt.plot(epochs, val_acc, 'r', label='Validation accurarcy')\n",
        "plt.title('Training and Validation accurarcy')\n",
        "plt.legend()\n",
        "\n",
        "plt.figure()\n",
        "#Train and validation loss\n",
        "plt.plot(epochs, loss, 'b', label='Training loss')\n",
        "plt.plot(epochs, val_loss, 'r', label='Validation loss')\n",
        "plt.title('Training and Validation loss')\n",
        "plt.legend()\n",
        "plt.show()\n"
      ],
      "execution_count": 0,
      "outputs": [
        {
          "output_type": "display_data",
          "data": {
            "image/png": "[encoded data removed]",
            "text/plain": [
              "<Figure size 576x396 with 1 Axes>"
            ]
          },
          "metadata": {
            "tags": []
          }
        },
        {
          "output_type": "display_data",
          "data": {
            "image/png": "[encoded data removed]",
            "text/plain": [
              "<Figure size 576x396 with 1 Axes>"
            ]
          },
          "metadata": {
            "tags": []
          }
        }
      ]
    },
    {
      "metadata": {
        "id": "RgFJR6RFGv_1",
        "colab_type": "code",
        "outputId": "43cc8b2b-909e-4ca9-c584-e611de5308f0",
        "colab": {
          "base_uri": "https://localhost:8080/",
          "height": 69
        }
      },
      "cell_type": "code",
      "source": [
        "print(\"[INFO] Calculating model accuracy\")\n",
        "scores = model.evaluate(x_test, y_test)\n",
        "print(f\"Test Accuracy: {scores[1]*100}\")"
      ],
      "execution_count": 0,
      "outputs": [
        {
          "output_type": "stream",
          "text": [
            "[INFO] Calculating model accuracy\n",
            "160/160 [==============================] - 6s 40ms/sample - loss: 5.2341 - acc: 0.6438\n",
            "Test Accuracy: 64.3750011920929\n"
          ],
          "name": "stdout"
        }
      ]
    },
    {
      "metadata": {
        "id": "jKiJJAWCGwZa",
        "colab_type": "code",
        "outputId": "1f557ac9-7ef0-40d6-da07-a00dfd90f93b",
        "colab": {
          "base_uri": "https://localhost:8080/",
          "height": 86
        }
      },
      "cell_type": "code",
      "source": [
        "!pip install h5py pyyaml "
      ],
      "execution_count": 0,
      "outputs": [
        {
          "output_type": "stream",
          "text": [
            "Requirement already satisfied: h5py in /usr/local/lib/python3.6/dist-packages (2.8.0)\n",
            "Requirement already satisfied: pyyaml in /usr/local/lib/python3.6/dist-packages (3.13)\n",
            "Requirement already satisfied: numpy>=1.7 in /usr/local/lib/python3.6/dist-packages (from h5py) (1.14.6)\n",
            "Requirement already satisfied: six in /usr/local/lib/python3.6/dist-packages (from h5py) (1.11.0)\n"
          ],
          "name": "stdout"
        }
      ]
    },
    {
      "metadata": {
        "id": "WftqypnnIBz_",
        "colab_type": "code",
        "colab": {}
      },
      "cell_type": "code",
      "source": [
        "model.save('alexnet64.h5')"
      ],
      "execution_count": 0,
      "outputs": []
    },
    {
      "metadata": {
        "id": "PzuYD7Haik37",
        "colab_type": "code",
        "colab": {}
      },
      "cell_type": "code",
      "source": [
        "#Trials\n",
        "\n",
        "\n",
        "!mv 'alexnet64.h5' '/content/drive/My Drive/MP - Benette'\n"
      ],
      "execution_count": 0,
      "outputs": []
    }
  ]
}