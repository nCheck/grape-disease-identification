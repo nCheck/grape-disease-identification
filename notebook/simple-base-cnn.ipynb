{
  "nbformat": 4,
  "nbformat_minor": 0,
  "metadata": {
    "colab": {
      "name": "ncheck-trial-1.ipynb",
      "version": "0.3.2",
      "provenance": [],
      "collapsed_sections": []
    },
    "kernelspec": {
      "name": "python3",
      "display_name": "Python 3"
    },
    "accelerator": "GPU"
  },
  "cells": [
    {
      "metadata": {
        "id": "_lqKRkYZik1y",
        "colab_type": "code",
        "colab": {}
      },
      "cell_type": "code",
      "source": [
        "import numpy as np\n",
        "import pickle\n",
        "import cv2\n",
        "from os import listdir\n",
        "from sklearn.preprocessing import LabelBinarizer\n",
        "import tensorflow as tf\n",
        "from tensorflow.python import keras"
      ],
      "execution_count": 0,
      "outputs": []
    },
    {
      "metadata": {
        "id": "ozDupX43ik2C",
        "colab_type": "code",
        "colab": {}
      },
      "cell_type": "code",
      "source": [
        "gpu_options = tf.GPUOptions(allow_growth=True)\n",
        "session = tf.InteractiveSession(config=tf.ConfigProto(gpu_options=gpu_options))"
      ],
      "execution_count": 0,
      "outputs": []
    },
    {
      "metadata": {
        "id": "4yWb44jYik2L",
        "colab_type": "code",
        "colab": {}
      },
      "cell_type": "code",
      "source": [
        "from tensorflow.python.keras.models import Sequential\n",
        "from tensorflow.python.keras.layers.normalization import BatchNormalization\n",
        "from tensorflow.python.keras.layers.convolutional import Conv2D\n",
        "from tensorflow.python.keras.layers.convolutional import MaxPooling2D\n",
        "from tensorflow.python.keras.layers.core import Activation, Flatten, Dropout, Dense\n",
        "from tensorflow.python.keras import backend as K\n",
        "from tensorflow.python.keras.preprocessing.image import ImageDataGenerator\n",
        "from tensorflow.python.keras.optimizers import Adam\n",
        "from tensorflow.python.keras.preprocessing import image\n",
        "from tensorflow.python.keras.preprocessing.image import img_to_array\n",
        "from sklearn.preprocessing import MultiLabelBinarizer\n",
        "from sklearn.model_selection import train_test_split\n",
        "import matplotlib.pyplot as plt"
      ],
      "execution_count": 0,
      "outputs": []
    },
    {
      "metadata": {
        "id": "54w20ynNik2U",
        "colab_type": "code",
        "colab": {}
      },
      "cell_type": "code",
      "source": [
        "EPOCHS = 25\n",
        "INIT_LR = 1e-3\n",
        "BS = 32\n",
        "default_image_size = tuple((256, 256))\n",
        "image_size = 0\n",
        "directory_root = './dataset'\n",
        "width=256\n",
        "height=256\n",
        "depth=3"
      ],
      "execution_count": 0,
      "outputs": []
    },
    {
      "metadata": {
        "id": "HbIcRffUjdX2",
        "colab_type": "code",
        "outputId": "a95b474f-74a0-4ef7-feac-576f5dd5df22",
        "colab": {
          "base_uri": "https://localhost:8080/",
          "height": 124
        }
      },
      "cell_type": "code",
      "source": [
        "# Load the Drive helper and mount\n",
        "from google.colab import drive\n",
        "\n",
        "# This will prompt for authorization.\n",
        "drive.mount('/content/drive')\n",
        "#4/EAG02kbCNf-VuR7JFSNb9IgXQKiaLh96GggncVLYnrnaq99NGysbmDo"
      ],
      "execution_count": 13,
      "outputs": [
        {
          "output_type": "stream",
          "text": [
            "Go to this URL in a browser: https://accounts.google.com/o/oauth2/auth?client_id=947318989803-6bn6qk8qdgf4n4g3pfee6491hc0brc4i.apps.googleusercontent.com&redirect_uri=urn%3Aietf%3Awg%3Aoauth%3A2.0%3Aoob&scope=email%20https%3A%2F%2Fwww.googleapis.com%2Fauth%2Fdocs.test%20https%3A%2F%2Fwww.googleapis.com%2Fauth%2Fdrive%20https%3A%2F%2Fwww.googleapis.com%2Fauth%2Fdrive.photos.readonly%20https%3A%2F%2Fwww.googleapis.com%2Fauth%2Fpeopleapi.readonly&response_type=code\n",
            "\n",
            "Enter your authorization code:\n",
            "··········\n",
            "Mounted at /content/drive\n"
          ],
          "name": "stdout"
        }
      ]
    },
    {
      "metadata": {
        "id": "FgJ1LJ4NnRt_",
        "colab_type": "code",
        "outputId": "fa32cf2a-c84c-4c72-fa0b-e1e2d0d077e3",
        "colab": {
          "base_uri": "https://localhost:8080/",
          "height": 34
        }
      },
      "cell_type": "code",
      "source": [
        "!ls \"/content/drive/My Drive/MP - Benette\""
      ],
      "execution_count": 12,
      "outputs": [
        {
          "output_type": "stream",
          "text": [
            "ls: cannot access '/content/drive/My Drive/MP - Benette': No such file or directory\n"
          ],
          "name": "stdout"
        }
      ]
    },
    {
      "metadata": {
        "id": "6P_hwaB8Dgu7",
        "colab_type": "code",
        "colab": {}
      },
      "cell_type": "code",
      "source": [
        "!unzip \"/content/drive/My Drive/MP - Benette/dataset.zip\""
      ],
      "execution_count": 0,
      "outputs": []
    },
    {
      "metadata": {
        "id": "K_w06u2Mik2a",
        "colab_type": "code",
        "colab": {}
      },
      "cell_type": "code",
      "source": [
        "\n",
        "\n",
        "def convert_image_to_array(image_dir):\n",
        "    try:\n",
        "        image = cv2.imread(image_dir)\n",
        "        if image is not None :\n",
        "            image = cv2.resize(image, default_image_size)   \n",
        "            return img_to_array(image)\n",
        "        else :\n",
        "            return np.array([])\n",
        "    except Exception as e:\n",
        "        print(f\"Error : {e}\")\n",
        "        return None\n",
        "\n"
      ],
      "execution_count": 0,
      "outputs": []
    },
    {
      "metadata": {
        "id": "V1sT-WNfik2f",
        "colab_type": "code",
        "outputId": "8b716147-a0d9-447a-e327-4bb5d42cca57",
        "colab": {
          "base_uri": "https://localhost:8080/",
          "height": 121
        }
      },
      "cell_type": "code",
      "source": [
        "image_list, label_list = [], []\n",
        "try:\n",
        "    print(\"[INFO] Loading images ...\")\n",
        "    root_dir = listdir(directory_root)\n",
        "    for directory in root_dir :\n",
        "        # remove .DS_Store from list\n",
        "        if directory == \".DS_Store\" :\n",
        "            root_dir.remove(directory)\n",
        "\n",
        "    for plant_folder in root_dir :\n",
        "        plant_disease_folder_list = listdir(f\"{directory_root}/{plant_folder}\")\n",
        "        \n",
        "        for disease_folder in plant_disease_folder_list :\n",
        "            # remove .DS_Store from list\n",
        "            if disease_folder == \".DS_Store\" :\n",
        "                plant_disease_folder_list.remove(disease_folder)\n",
        "\n",
        "        for plant_disease_folder in plant_disease_folder_list:\n",
        "            print(f\"[INFO] Processing {plant_disease_folder} ...\")\n",
        "            plant_disease_image_list = listdir(f\"{directory_root}/{plant_folder}/{plant_disease_folder}/\")\n",
        "                \n",
        "            for single_plant_disease_image in plant_disease_image_list :\n",
        "                if single_plant_disease_image == \".DS_Store\" :\n",
        "                    plant_disease_image_list.remove(single_plant_disease_image)\n",
        "\n",
        "            for image in plant_disease_image_list[:200]:\n",
        "                image_directory = f\"{directory_root}/{plant_folder}/{plant_disease_folder}/{image}\"\n",
        "                if image_directory.endswith(\".jpg\") == True or image_directory.endswith(\".JPG\") == True:\n",
        "                    image_list.append(convert_image_to_array(image_directory))\n",
        "                    label_list.append(plant_disease_folder)\n",
        "    print(\"[INFO] Image loading completed\")  \n",
        "except Exception as e:\n",
        "    print(f\"Error : {e}\")\n"
      ],
      "execution_count": 16,
      "outputs": [
        {
          "output_type": "stream",
          "text": [
            "[INFO] Loading images ...\n",
            "[INFO] Processing Grape___Leaf_blight_(Isariopsis_Leaf_Spot) ...\n",
            "[INFO] Processing Grape___healthy ...\n",
            "[INFO] Processing Grape___Black_rot ...\n",
            "[INFO] Processing Grape___Esca_(Black_Measles) ...\n",
            "[INFO] Image loading completed\n"
          ],
          "name": "stdout"
        }
      ]
    },
    {
      "metadata": {
        "id": "w0iUFzSwik2p",
        "colab_type": "code",
        "colab": {}
      },
      "cell_type": "code",
      "source": [
        "image_size = len(image_list)"
      ],
      "execution_count": 0,
      "outputs": []
    },
    {
      "metadata": {
        "id": "lVNnKg5Hik2x",
        "colab_type": "code",
        "colab": {}
      },
      "cell_type": "code",
      "source": [
        "label_binarizer = LabelBinarizer()\n",
        "image_labels = label_binarizer.fit_transform(label_list)\n",
        "pickle.dump(label_binarizer,open('label_transform.pkl', 'wb'))\n",
        "n_classes = len(label_binarizer.classes_)"
      ],
      "execution_count": 0,
      "outputs": []
    },
    {
      "metadata": {
        "id": "hkal59KQik25",
        "colab_type": "code",
        "colab": {}
      },
      "cell_type": "code",
      "source": [
        "np_image_list = np.array(image_list, dtype=np.float16) / 225.0"
      ],
      "execution_count": 0,
      "outputs": []
    },
    {
      "metadata": {
        "id": "Rd4K5Vm-ik3J",
        "colab_type": "code",
        "outputId": "308ee785-327b-4f1d-f755-b1f669fa1a5d",
        "colab": {
          "base_uri": "https://localhost:8080/",
          "height": 34
        }
      },
      "cell_type": "code",
      "source": [
        "print(\"[INFO] Spliting data to train, test\")\n",
        "x_train, x_test, y_train, y_test = train_test_split(np_image_list, image_labels, test_size=0.2, random_state = 42) "
      ],
      "execution_count": 20,
      "outputs": [
        {
          "output_type": "stream",
          "text": [
            "[INFO] Spliting data to train, test\n"
          ],
          "name": "stdout"
        }
      ]
    },
    {
      "metadata": {
        "id": "I1dWVRV7ik3V",
        "colab_type": "code",
        "colab": {}
      },
      "cell_type": "code",
      "source": [
        "aug = ImageDataGenerator(\n",
        "    rotation_range=25, width_shift_range=0.1,\n",
        "    height_shift_range=0.1, shear_range=0.2, \n",
        "    zoom_range=0.2,horizontal_flip=True, \n",
        "    fill_mode=\"nearest\")"
      ],
      "execution_count": 0,
      "outputs": []
    },
    {
      "metadata": {
        "id": "R9YZ5dCmik3b",
        "colab_type": "code",
        "colab": {
          "base_uri": "https://localhost:8080/",
          "height": 141
        },
        "outputId": "d8b85bb6-7524-4c1d-8774-fa4d5f32e4ec"
      },
      "cell_type": "code",
      "source": [
        "\n",
        "\n",
        "model = Sequential()\n",
        "inputShape = (height, width, depth)\n",
        "chanDim = -1\n",
        "if K.image_data_format() == \"channels_first\":\n",
        "    inputShape = (depth, height, width)\n",
        "    chanDim = 1\n",
        "model.add(Conv2D(32, (3, 3), padding=\"same\",input_shape=inputShape))\n",
        "model.add(Activation(\"relu\"))\n",
        "model.add(BatchNormalization(axis=chanDim))\n",
        "model.add(MaxPooling2D(pool_size=(3, 3)))\n",
        "model.add(Dropout(0.25))\n",
        "model.add(Conv2D(64, (3, 3), padding=\"same\"))\n",
        "model.add(Activation(\"relu\"))\n",
        "model.add(BatchNormalization(axis=chanDim))\n",
        "model.add(Conv2D(64, (3, 3), padding=\"same\"))\n",
        "model.add(Activation(\"relu\"))\n",
        "model.add(BatchNormalization(axis=chanDim))\n",
        "model.add(MaxPooling2D(pool_size=(2, 2)))\n",
        "model.add(Dropout(0.25))\n",
        "model.add(Conv2D(128, (3, 3), padding=\"same\"))\n",
        "model.add(Activation(\"relu\"))\n",
        "model.add(BatchNormalization(axis=chanDim))\n",
        "model.add(Conv2D(128, (3, 3), padding=\"same\"))\n",
        "model.add(Activation(\"relu\"))\n",
        "model.add(BatchNormalization(axis=chanDim))\n",
        "model.add(MaxPooling2D(pool_size=(2, 2)))\n",
        "model.add(Dropout(0.25))\n",
        "model.add(Flatten())\n",
        "model.add(Dense(1024))\n",
        "model.add(Activation(\"relu\"))\n",
        "model.add(BatchNormalization())\n",
        "model.add(Dropout(0.5))\n",
        "model.add(Dense(n_classes))\n",
        "model.add(Activation(\"softmax\"))\n",
        "\n"
      ],
      "execution_count": 22,
      "outputs": [
        {
          "output_type": "stream",
          "text": [
            "WARNING:tensorflow:From /usr/local/lib/python3.6/dist-packages/tensorflow/python/ops/resource_variable_ops.py:435: colocate_with (from tensorflow.python.framework.ops) is deprecated and will be removed in a future version.\n",
            "Instructions for updating:\n",
            "Colocations handled automatically by placer.\n",
            "WARNING:tensorflow:From /usr/local/lib/python3.6/dist-packages/tensorflow/python/keras/layers/core.py:143: calling dropout (from tensorflow.python.ops.nn_ops) with keep_prob is deprecated and will be removed in a future version.\n",
            "Instructions for updating:\n",
            "Please use `rate` instead of `keep_prob`. Rate should be set to `rate = 1 - keep_prob`.\n"
          ],
          "name": "stdout"
        }
      ]
    },
    {
      "metadata": {
        "id": "5yz-_rvWik3g",
        "colab_type": "code",
        "colab": {}
      },
      "cell_type": "code",
      "source": [
        "\n",
        "\n"
      ],
      "execution_count": 0,
      "outputs": []
    },
    {
      "metadata": {
        "id": "H0vPo57gik3m",
        "colab_type": "code",
        "outputId": "e44e26fe-6bfa-4c26-91d9-ce3675b5f871",
        "colab": {
          "base_uri": "https://localhost:8080/",
          "height": 34
        }
      },
      "cell_type": "code",
      "source": [
        "\n",
        "\n",
        "opt = Adam(lr=INIT_LR, decay=INIT_LR / EPOCHS)\n",
        "# distribution\n",
        "model.compile(loss=\"binary_crossentropy\", optimizer=opt,metrics=[\"accuracy\"])\n",
        "# train the network\n",
        "print(\"[INFO] training network...\")\n",
        "\n"
      ],
      "execution_count": 23,
      "outputs": [
        {
          "output_type": "stream",
          "text": [
            "[INFO] training network...\n"
          ],
          "name": "stdout"
        }
      ]
    },
    {
      "metadata": {
        "id": "W7Df08sgik3u",
        "colab_type": "code",
        "colab": {}
      },
      "cell_type": "code",
      "source": [
        ""
      ],
      "execution_count": 0,
      "outputs": []
    },
    {
      "metadata": {
        "id": "yv1PSXKVik3y",
        "colab_type": "code",
        "outputId": "9c7f0e97-e8ed-4b90-8fb5-0749bae15bac",
        "colab": {
          "base_uri": "https://localhost:8080/",
          "height": 1372
        }
      },
      "cell_type": "code",
      "source": [
        "\n",
        "\n",
        "history = model.fit_generator(\n",
        "    aug.flow(x_train, y_train, batch_size=BS),\n",
        "    validation_data=(x_test, y_test),\n",
        "    steps_per_epoch=len(x_train) // BS,\n",
        "    epochs=EPOCHS, verbose=1\n",
        "    )\n",
        "\n"
      ],
      "execution_count": 24,
      "outputs": [
        {
          "output_type": "stream",
          "text": [
            "WARNING:tensorflow:From /usr/local/lib/python3.6/dist-packages/tensorflow/python/ops/math_ops.py:3066: to_int32 (from tensorflow.python.ops.math_ops) is deprecated and will be removed in a future version.\n",
            "Instructions for updating:\n",
            "Use tf.cast instead.\n",
            "Epoch 1/25\n",
            "160/160 [==============================] - 1s 5ms/sample - loss: 3.2035 - acc: 0.6156\n",
            "20/20 [==============================] - 12s 593ms/step - loss: 0.5487 - acc: 0.8383 - val_loss: 3.2035 - val_acc: 0.6156\n",
            "Epoch 2/25\n",
            "160/160 [==============================] - 1s 4ms/sample - loss: 4.0008 - acc: 0.6156\n",
            "20/20 [==============================] - 11s 560ms/step - loss: 0.2917 - acc: 0.8930 - val_loss: 4.0008 - val_acc: 0.6156\n",
            "Epoch 3/25\n",
            "160/160 [==============================] - 1s 4ms/sample - loss: 4.1533 - acc: 0.6156\n",
            "20/20 [==============================] - 11s 555ms/step - loss: 0.1949 - acc: 0.9289 - val_loss: 4.1533 - val_acc: 0.6156\n",
            "Epoch 4/25\n",
            "160/160 [==============================] - 1s 4ms/sample - loss: 5.3864 - acc: 0.6156\n",
            "20/20 [==============================] - 11s 566ms/step - loss: 0.1521 - acc: 0.9402 - val_loss: 5.3864 - val_acc: 0.6156\n",
            "Epoch 5/25\n",
            "160/160 [==============================] - 1s 4ms/sample - loss: 5.9625 - acc: 0.6156\n",
            "20/20 [==============================] - 11s 567ms/step - loss: 0.2289 - acc: 0.9289 - val_loss: 5.9625 - val_acc: 0.6156\n",
            "Epoch 6/25\n",
            "160/160 [==============================] - 1s 4ms/sample - loss: 5.7324 - acc: 0.6156\n",
            "20/20 [==============================] - 11s 561ms/step - loss: 0.1619 - acc: 0.9461 - val_loss: 5.7324 - val_acc: 0.6156\n",
            "Epoch 7/25\n",
            "160/160 [==============================] - 1s 4ms/sample - loss: 5.5737 - acc: 0.6156\n",
            "20/20 [==============================] - 11s 567ms/step - loss: 0.1695 - acc: 0.9375 - val_loss: 5.5737 - val_acc: 0.6156\n",
            "Epoch 8/25\n",
            "160/160 [==============================] - 1s 4ms/sample - loss: 5.7256 - acc: 0.6156\n",
            "20/20 [==============================] - 11s 566ms/step - loss: 0.1206 - acc: 0.9527 - val_loss: 5.7256 - val_acc: 0.6156\n",
            "Epoch 9/25\n",
            "160/160 [==============================] - 1s 4ms/sample - loss: 6.1217 - acc: 0.6156\n",
            "20/20 [==============================] - 11s 569ms/step - loss: 0.1093 - acc: 0.9598 - val_loss: 6.1217 - val_acc: 0.6156\n",
            "Epoch 10/25\n",
            "160/160 [==============================] - 1s 4ms/sample - loss: 6.1616 - acc: 0.6156\n",
            "20/20 [==============================] - 11s 567ms/step - loss: 0.0894 - acc: 0.9668 - val_loss: 6.1616 - val_acc: 0.6156\n",
            "Epoch 11/25\n",
            "160/160 [==============================] - 1s 4ms/sample - loss: 5.7181 - acc: 0.6156\n",
            "20/20 [==============================] - 11s 555ms/step - loss: 0.1143 - acc: 0.9570 - val_loss: 5.7181 - val_acc: 0.6156\n",
            "Epoch 12/25\n",
            "160/160 [==============================] - 1s 4ms/sample - loss: 2.5897 - acc: 0.7250\n",
            "20/20 [==============================] - 11s 571ms/step - loss: 0.0858 - acc: 0.9688 - val_loss: 2.5897 - val_acc: 0.7250\n",
            "Epoch 13/25\n",
            "160/160 [==============================] - 1s 4ms/sample - loss: 3.2530 - acc: 0.6531\n",
            "20/20 [==============================] - 11s 561ms/step - loss: 0.0777 - acc: 0.9766 - val_loss: 3.2530 - val_acc: 0.6531\n",
            "Epoch 14/25\n",
            "160/160 [==============================] - 1s 4ms/sample - loss: 5.8034 - acc: 0.6156\n",
            "20/20 [==============================] - 11s 563ms/step - loss: 0.0971 - acc: 0.9625 - val_loss: 5.8034 - val_acc: 0.6156\n",
            "Epoch 15/25\n",
            "160/160 [==============================] - 1s 4ms/sample - loss: 4.2398 - acc: 0.6187\n",
            "20/20 [==============================] - 11s 559ms/step - loss: 0.0620 - acc: 0.9762 - val_loss: 4.2398 - val_acc: 0.6187\n",
            "Epoch 16/25\n",
            "160/160 [==============================] - 1s 4ms/sample - loss: 3.5652 - acc: 0.6500\n",
            "20/20 [==============================] - 11s 561ms/step - loss: 0.0533 - acc: 0.9816 - val_loss: 3.5652 - val_acc: 0.6500\n",
            "Epoch 17/25\n",
            "160/160 [==============================] - 1s 4ms/sample - loss: 3.0495 - acc: 0.7125\n",
            "20/20 [==============================] - 11s 561ms/step - loss: 0.0471 - acc: 0.9832 - val_loss: 3.0495 - val_acc: 0.7125\n",
            "Epoch 18/25\n",
            "160/160 [==============================] - 1s 4ms/sample - loss: 2.9696 - acc: 0.7156\n",
            "20/20 [==============================] - 11s 561ms/step - loss: 0.0471 - acc: 0.9816 - val_loss: 2.9696 - val_acc: 0.7156\n",
            "Epoch 19/25\n",
            "160/160 [==============================] - 1s 4ms/sample - loss: 3.2691 - acc: 0.7219\n",
            "20/20 [==============================] - 11s 562ms/step - loss: 0.0772 - acc: 0.9711 - val_loss: 3.2691 - val_acc: 0.7219\n",
            "Epoch 20/25\n",
            "160/160 [==============================] - 1s 4ms/sample - loss: 5.5583 - acc: 0.6156\n",
            "20/20 [==============================] - 11s 555ms/step - loss: 0.0525 - acc: 0.9816 - val_loss: 5.5583 - val_acc: 0.6156\n",
            "Epoch 21/25\n",
            "160/160 [==============================] - 1s 4ms/sample - loss: 4.7145 - acc: 0.6156\n",
            "20/20 [==============================] - 11s 560ms/step - loss: 0.0931 - acc: 0.9727 - val_loss: 4.7145 - val_acc: 0.6156\n",
            "Epoch 22/25\n",
            "160/160 [==============================] - 1s 4ms/sample - loss: 2.4269 - acc: 0.7375\n",
            "20/20 [==============================] - 11s 561ms/step - loss: 0.0514 - acc: 0.9820 - val_loss: 2.4269 - val_acc: 0.7375\n",
            "Epoch 23/25\n",
            "160/160 [==============================] - 1s 4ms/sample - loss: 3.6714 - acc: 0.6938\n",
            "20/20 [==============================] - 11s 561ms/step - loss: 0.0335 - acc: 0.9910 - val_loss: 3.6714 - val_acc: 0.6938\n",
            "Epoch 24/25\n",
            "160/160 [==============================] - 1s 3ms/sample - loss: 3.0575 - acc: 0.6687\n",
            "20/20 [==============================] - 11s 562ms/step - loss: 0.0324 - acc: 0.9906 - val_loss: 3.0575 - val_acc: 0.6687\n",
            "Epoch 25/25\n",
            "160/160 [==============================] - 1s 4ms/sample - loss: 2.6205 - acc: 0.7312\n",
            "20/20 [==============================] - 11s 552ms/step - loss: 0.0312 - acc: 0.9891 - val_loss: 2.6205 - val_acc: 0.7312\n"
          ],
          "name": "stdout"
        }
      ]
    },
    {
      "metadata": {
        "id": "gvMa413rGvkD",
        "colab_type": "code",
        "colab": {
          "base_uri": "https://localhost:8080/",
          "height": 707
        },
        "outputId": "c20bbed0-7bcf-431a-9541-7ea05420b390"
      },
      "cell_type": "code",
      "source": [
        "acc = history.history['acc']\n",
        "val_acc = history.history['val_acc']\n",
        "loss = history.history['loss']\n",
        "val_loss = history.history['val_loss']\n",
        "epochs = range(1, len(acc) + 1)\n",
        "#Train and validation accuracy\n",
        "plt.plot(epochs, acc, 'b', label='Training accurarcy')\n",
        "plt.plot(epochs, val_acc, 'r', label='Validation accurarcy')\n",
        "plt.title('Training and Validation accurarcy')\n",
        "plt.legend()\n",
        "\n",
        "plt.figure()\n",
        "#Train and validation loss\n",
        "plt.plot(epochs, loss, 'b', label='Training loss')\n",
        "plt.plot(epochs, val_loss, 'r', label='Validation loss')\n",
        "plt.title('Training and Validation loss')\n",
        "plt.legend()\n",
        "plt.show()\n"
      ],
      "execution_count": 25,
      "outputs": [
        {
          "output_type": "display_data",
          "data": {
            "image/png": "[encoded data removed]",
            "text/plain": [
              "<Figure size 576x396 with 1 Axes>"
            ]
          },
          "metadata": {
            "tags": []
          }
        },
        {
          "output_type": "display_data",
          "data": {
            "image/png": "[encoded data removed]",
            "text/plain": [
              "<Figure size 576x396 with 1 Axes>"
            ]
          },
          "metadata": {
            "tags": []
          }
        }
      ]
    },
    {
      "metadata": {
        "id": "RgFJR6RFGv_1",
        "colab_type": "code",
        "colab": {
          "base_uri": "https://localhost:8080/",
          "height": 69
        },
        "outputId": "4bfc96be-6794-4e21-972f-24f6c253f23f"
      },
      "cell_type": "code",
      "source": [
        "print(\"[INFO] Calculating model accuracy\")\n",
        "scores = model.evaluate(x_test, y_test)\n",
        "print(f\"Test Accuracy: {scores[1]*100}\")"
      ],
      "execution_count": 26,
      "outputs": [
        {
          "output_type": "stream",
          "text": [
            "[INFO] Calculating model accuracy\n",
            "160/160 [==============================] - 1s 4ms/sample - loss: 2.6205 - acc: 0.7312\n",
            "Test Accuracy: 73.1249988079071\n"
          ],
          "name": "stdout"
        }
      ]
    },
    {
      "metadata": {
        "id": "jKiJJAWCGwZa",
        "colab_type": "code",
        "colab": {
          "base_uri": "https://localhost:8080/",
          "height": 86
        },
        "outputId": "1f557ac9-7ef0-40d6-da07-a00dfd90f93b"
      },
      "cell_type": "code",
      "source": [
        "!pip install h5py pyyaml "
      ],
      "execution_count": 31,
      "outputs": [
        {
          "output_type": "stream",
          "text": [
            "Requirement already satisfied: h5py in /usr/local/lib/python3.6/dist-packages (2.8.0)\n",
            "Requirement already satisfied: pyyaml in /usr/local/lib/python3.6/dist-packages (3.13)\n",
            "Requirement already satisfied: numpy>=1.7 in /usr/local/lib/python3.6/dist-packages (from h5py) (1.14.6)\n",
            "Requirement already satisfied: six in /usr/local/lib/python3.6/dist-packages (from h5py) (1.11.0)\n"
          ],
          "name": "stdout"
        }
      ]
    },
    {
      "metadata": {
        "id": "WftqypnnIBz_",
        "colab_type": "code",
        "colab": {}
      },
      "cell_type": "code",
      "source": [
        "model.save('ncheck73trial.h5')"
      ],
      "execution_count": 0,
      "outputs": []
    },
    {
      "metadata": {
        "id": "PzuYD7Haik37",
        "colab_type": "code",
        "colab": {}
      },
      "cell_type": "code",
      "source": [
        "#Trials\n",
        "\n",
        "\n",
        "!mv \"ncheck73trial.h5\" \"/content/drive/My Drive/MP - Benette/\""
      ],
      "execution_count": 0,
      "outputs": []
    }
  ]
}